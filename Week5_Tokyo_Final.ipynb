{
 "cells": [
  {
   "cell_type": "markdown",
   "metadata": {},
   "source": [
    "<font size='4'><b>Notebook content:</b> Scapes Tokyo's wards data from Wikipedia and wrangles them into a suitable format. Utilises Foursquare API for collecting data about Indian restaurants in Tokyo. Uses Folium for map representation. Wards will be ordered into 3 distinct groups based on number of Indian restaurants.</font>"
   ]
  },
  {
   "cell_type": "markdown",
   "metadata": {},
   "source": [
    "<br/><br/>"
   ]
  },
  {
   "cell_type": "code",
   "execution_count": 1,
   "metadata": {},
   "outputs": [],
   "source": [
    "# Importing libraries.\n",
    "import numpy as np\n",
    "import pandas as pd \n",
    "from pandas.io.json import json_normalize\n",
    "\n",
    "import json\n",
    "import requests \n",
    "from bs4 import BeautifulSoup \n",
    "\n",
    "# Geo-spatial libraries.\n",
    "from geopy.geocoders import Nominatim\n",
    "import folium\n",
    "\n",
    "import matplotlib.cm as cm\n",
    "import matplotlib.colors as colors"
   ]
  },
  {
   "cell_type": "code",
   "execution_count": 2,
   "metadata": {},
   "outputs": [],
   "source": [
    "# Ignoring warnings.\n",
    "import warnings\n",
    "warnings.filterwarnings('ignore')"
   ]
  },
  {
   "cell_type": "code",
   "execution_count": 3,
   "metadata": {},
   "outputs": [],
   "source": [
    "response= requests.get('https://en.wikipedia.org/wiki/Special_wards_of_Tokyo').text\n",
    "soup = BeautifulSoup(response,'lxml')"
   ]
  },
  {
   "cell_type": "code",
   "execution_count": 4,
   "metadata": {},
   "outputs": [],
   "source": [
    "Wards= soup.find('table', {'class':'wikitable sortable'})"
   ]
  },
  {
   "cell_type": "code",
   "execution_count": 5,
   "metadata": {},
   "outputs": [
    {
     "name": "stdout",
     "output_type": "stream",
     "text": [
      "[]\n",
      "[<td>01</td>, <td><a class=\"image\" href=\"/wiki/File:Flag_of_Chiyoda,_Tokyo.svg\"><img alt=\"Flag of Chiyoda, Tokyo.svg\" class=\"thumbborder\" data-file-height=\"540\" data-file-width=\"810\" decoding=\"async\" height=\"33\" src=\"//upload.wikimedia.org/wikipedia/commons/thumb/e/ec/Flag_of_Chiyoda%2C_Tokyo.svg/50px-Flag_of_Chiyoda%2C_Tokyo.svg.png\" srcset=\"//upload.wikimedia.org/wikipedia/commons/thumb/e/ec/Flag_of_Chiyoda%2C_Tokyo.svg/75px-Flag_of_Chiyoda%2C_Tokyo.svg.png 1.5x, //upload.wikimedia.org/wikipedia/commons/thumb/e/ec/Flag_of_Chiyoda%2C_Tokyo.svg/100px-Flag_of_Chiyoda%2C_Tokyo.svg.png 2x\" width=\"50\"/></a></td>, <td><a href=\"/wiki/Chiyoda,_Tokyo\" title=\"Chiyoda, Tokyo\">Chiyoda</a></td>, <td>千代田区\n",
      "</td>, <td><span style=\"visibility:hidden;color:transparent;\">0</span><span style=\"visibility:hidden;color:transparent;\">0</span>59,441</td>, <td><span style=\"visibility:hidden;color:transparent;\">0</span>5,100</td>, <td><span style=\"visibility:hidden;color:transparent;\">0</span>11.66\n",
      "</td>, <td><a href=\"/wiki/Nagatach%C5%8D\" title=\"Nagatachō\">Nagatachō</a>, <a href=\"/wiki/Kasumigaseki\" title=\"Kasumigaseki\">Kasumigaseki</a>, <a href=\"/wiki/%C5%8Ctemachi\" title=\"Ōtemachi\">Ōtemachi</a>, <a href=\"/wiki/Marunouchi\" title=\"Marunouchi\">Marunouchi</a>, <a href=\"/wiki/Akihabara\" title=\"Akihabara\">Akihabara</a>, <a href=\"/wiki/Y%C5%ABrakuch%C5%8D\" title=\"Yūrakuchō\">Yūrakuchō</a>, <a class=\"mw-redirect\" href=\"/wiki/Iidabashi,_Tokyo\" title=\"Iidabashi, Tokyo\">Iidabashi</a>, <a href=\"/wiki/Kanda,_Tokyo\" title=\"Kanda, Tokyo\">Kanda</a>\n",
      "</td>]\n",
      "<td>01</td>\n",
      "[<td>02</td>, <td><a class=\"image\" href=\"/wiki/File:Flag_of_Chuo,_Tokyo.svg\"><img alt=\"Flag of Chuo, Tokyo.svg\" class=\"thumbborder\" data-file-height=\"600\" data-file-width=\"900\" decoding=\"async\" height=\"33\" src=\"//upload.wikimedia.org/wikipedia/commons/thumb/4/40/Flag_of_Chuo%2C_Tokyo.svg/50px-Flag_of_Chuo%2C_Tokyo.svg.png\" srcset=\"//upload.wikimedia.org/wikipedia/commons/thumb/4/40/Flag_of_Chuo%2C_Tokyo.svg/75px-Flag_of_Chuo%2C_Tokyo.svg.png 1.5x, //upload.wikimedia.org/wikipedia/commons/thumb/4/40/Flag_of_Chuo%2C_Tokyo.svg/100px-Flag_of_Chuo%2C_Tokyo.svg.png 2x\" width=\"50\"/></a></td>, <td><a href=\"/wiki/Ch%C5%AB%C5%8D,_Tokyo\" title=\"Chūō, Tokyo\">Chūō</a></td>, <td>中央区\n",
      "</td>, <td><span style=\"visibility:hidden;color:transparent;\">0</span>147,620</td>, <td>14,460</td>, <td><span style=\"visibility:hidden;color:transparent;\">0</span>10.21\n",
      "</td>, <td><a href=\"/wiki/Nihonbashi\" title=\"Nihonbashi\">Nihonbashi</a>, Kayabachō, <a href=\"/wiki/Ginza\" title=\"Ginza\">Ginza</a>, <a href=\"/wiki/Tsukiji\" title=\"Tsukiji\">Tsukiji</a>, <a href=\"/wiki/Hatch%C5%8Dbori_Station_(Tokyo)\" title=\"Hatchōbori Station (Tokyo)\">Hatchōbori</a>, Shinkawa, <a href=\"/wiki/Tsukishima\" title=\"Tsukishima\">Tsukishima</a>, Kachidoki, Tsukuda\n",
      "</td>]\n",
      "<td>02</td>\n",
      "[<td>03</td>, <td><a class=\"image\" href=\"/wiki/File:Flag_of_Minato,_Tokyo.svg\"><img alt=\"Flag of Minato, Tokyo.svg\" class=\"thumbborder\" data-file-height=\"600\" data-file-width=\"900\" decoding=\"async\" height=\"33\" src=\"//upload.wikimedia.org/wikipedia/commons/thumb/a/a4/Flag_of_Minato%2C_Tokyo.svg/50px-Flag_of_Minato%2C_Tokyo.svg.png\" srcset=\"//upload.wikimedia.org/wikipedia/commons/thumb/a/a4/Flag_of_Minato%2C_Tokyo.svg/75px-Flag_of_Minato%2C_Tokyo.svg.png 1.5x, //upload.wikimedia.org/wikipedia/commons/thumb/a/a4/Flag_of_Minato%2C_Tokyo.svg/100px-Flag_of_Minato%2C_Tokyo.svg.png 2x\" width=\"50\"/></a></td>, <td><a href=\"/wiki/Minato,_Tokyo\" title=\"Minato, Tokyo\">Minato</a></td>, <td>港区\n",
      "</td>, <td><span style=\"visibility:hidden;color:transparent;\">0</span>248,071</td>, <td>12,180</td>, <td><span style=\"visibility:hidden;color:transparent;\">0</span>20.37\n",
      "</td>, <td><a href=\"/wiki/Odaiba\" title=\"Odaiba\">Odaiba</a>, <a href=\"/wiki/Shinbashi\" title=\"Shinbashi\">Shinbashi</a>, <a href=\"/wiki/Hamamatsuch%C5%8D\" title=\"Hamamatsuchō\">Hamamatsuchō</a>, <a href=\"/wiki/Mita,_Minato,_Tokyo\" title=\"Mita, Minato, Tokyo\">Mita</a>, <a href=\"/wiki/Roppongi\" title=\"Roppongi\">Roppongi</a>, <a href=\"/wiki/Toranomon\" title=\"Toranomon\">Toranomon</a>, <a class=\"mw-redirect\" href=\"/wiki/Aoyama,_Minato,_Tokyo\" title=\"Aoyama, Minato, Tokyo\">Aoyama</a>, <a href=\"/wiki/Azabu\" title=\"Azabu\">Azabu</a>\n",
      "</td>]\n",
      "<td>03</td>\n",
      "[<td>04</td>, <td><a class=\"image\" href=\"/wiki/File:Flag_of_Shinjuku,_Tokyo.svg\"><img alt=\"Flag of Shinjuku, Tokyo.svg\" class=\"thumbborder\" data-file-height=\"600\" data-file-width=\"900\" decoding=\"async\" height=\"33\" src=\"//upload.wikimedia.org/wikipedia/commons/thumb/7/76/Flag_of_Shinjuku%2C_Tokyo.svg/50px-Flag_of_Shinjuku%2C_Tokyo.svg.png\" srcset=\"//upload.wikimedia.org/wikipedia/commons/thumb/7/76/Flag_of_Shinjuku%2C_Tokyo.svg/75px-Flag_of_Shinjuku%2C_Tokyo.svg.png 1.5x, //upload.wikimedia.org/wikipedia/commons/thumb/7/76/Flag_of_Shinjuku%2C_Tokyo.svg/100px-Flag_of_Shinjuku%2C_Tokyo.svg.png 2x\" width=\"50\"/></a></td>, <td><a href=\"/wiki/Shinjuku\" title=\"Shinjuku\">Shinjuku</a></td>, <td>新宿区\n",
      "</td>, <td><span style=\"visibility:hidden;color:transparent;\">0</span>339,211</td>, <td>18,620</td>, <td><span style=\"visibility:hidden;color:transparent;\">0</span>18.22\n",
      "</td>, <td><a href=\"/wiki/Shinjuku_Station\" title=\"Shinjuku Station\">Shinjuku</a>, <a href=\"/wiki/Takadanobaba\" title=\"Takadanobaba\">Takadanobaba</a>, <a href=\"/wiki/%C5%8Ckubo,_Tokyo\" title=\"Ōkubo, Tokyo\">Ōkubo</a>, <a href=\"/wiki/Kagurazaka\" title=\"Kagurazaka\">Kagurazaka</a>, <a href=\"/wiki/Ichigaya\" title=\"Ichigaya\">Ichigaya</a>, <a href=\"/wiki/Yotsuya\" title=\"Yotsuya\">Yotsuya</a>, <a href=\"/wiki/Sendagaya\" title=\"Sendagaya\">Sendagaya</a>, <a href=\"/wiki/Yoyogi\" title=\"Yoyogi\">Yoyogi</a>\n",
      "</td>]\n",
      "<td>04</td>\n",
      "[<td>05</td>, <td><a class=\"image\" href=\"/wiki/File:Flag_of_Bunkyo,_Tokyo.svg\"><img alt=\"Flag of Bunkyo, Tokyo.svg\" class=\"thumbborder\" data-file-height=\"600\" data-file-width=\"900\" decoding=\"async\" height=\"33\" src=\"//upload.wikimedia.org/wikipedia/commons/thumb/a/af/Flag_of_Bunkyo%2C_Tokyo.svg/50px-Flag_of_Bunkyo%2C_Tokyo.svg.png\" srcset=\"//upload.wikimedia.org/wikipedia/commons/thumb/a/af/Flag_of_Bunkyo%2C_Tokyo.svg/75px-Flag_of_Bunkyo%2C_Tokyo.svg.png 1.5x, //upload.wikimedia.org/wikipedia/commons/thumb/a/af/Flag_of_Bunkyo%2C_Tokyo.svg/100px-Flag_of_Bunkyo%2C_Tokyo.svg.png 2x\" width=\"50\"/></a></td>, <td><a href=\"/wiki/Bunky%C5%8D\" title=\"Bunkyō\">Bunkyō</a></td>, <td>文京区\n",
      "</td>, <td><span style=\"visibility:hidden;color:transparent;\">0</span>223,389</td>, <td>19,790</td>, <td><span style=\"visibility:hidden;color:transparent;\">0</span>11.29\n",
      "</td>, <td><a href=\"/wiki/Hong%C5%8D,_Tokyo\" title=\"Hongō, Tokyo\">Hongō</a>, <a href=\"/wiki/Yayoi,_Tokyo\" title=\"Yayoi, Tokyo\">Yayoi</a>, Hakusan\n",
      "</td>]\n",
      "<td>05</td>\n",
      "[<td>06</td>, <td><a class=\"image\" href=\"/wiki/File:Flag_of_Taito,_Tokyo.svg\"><img alt=\"Flag of Taito, Tokyo.svg\" class=\"thumbborder\" data-file-height=\"400\" data-file-width=\"600\" decoding=\"async\" height=\"33\" src=\"//upload.wikimedia.org/wikipedia/commons/thumb/8/81/Flag_of_Taito%2C_Tokyo.svg/50px-Flag_of_Taito%2C_Tokyo.svg.png\" srcset=\"//upload.wikimedia.org/wikipedia/commons/thumb/8/81/Flag_of_Taito%2C_Tokyo.svg/75px-Flag_of_Taito%2C_Tokyo.svg.png 1.5x, //upload.wikimedia.org/wikipedia/commons/thumb/8/81/Flag_of_Taito%2C_Tokyo.svg/100px-Flag_of_Taito%2C_Tokyo.svg.png 2x\" width=\"50\"/></a></td>, <td><a href=\"/wiki/Tait%C5%8D\" title=\"Taitō\">Taitō</a></td>, <td>台東区\n",
      "</td>, <td><span style=\"visibility:hidden;color:transparent;\">0</span>200,486</td>, <td>19,830</td>, <td><span style=\"visibility:hidden;color:transparent;\">0</span>10.11\n",
      "</td>, <td><a href=\"/wiki/Ueno\" title=\"Ueno\">Ueno</a>, <a href=\"/wiki/Asakusa\" title=\"Asakusa\">Asakusa</a>\n",
      "</td>]\n",
      "<td>06</td>\n",
      "[<td>07</td>, <td><a class=\"image\" href=\"/wiki/File:Flag_of_Sumida,_Tokyo.svg\"><img alt=\"Flag of Sumida, Tokyo.svg\" class=\"thumbborder\" data-file-height=\"600\" data-file-width=\"900\" decoding=\"async\" height=\"33\" src=\"//upload.wikimedia.org/wikipedia/commons/thumb/4/4e/Flag_of_Sumida%2C_Tokyo.svg/50px-Flag_of_Sumida%2C_Tokyo.svg.png\" srcset=\"//upload.wikimedia.org/wikipedia/commons/thumb/4/4e/Flag_of_Sumida%2C_Tokyo.svg/75px-Flag_of_Sumida%2C_Tokyo.svg.png 1.5x, //upload.wikimedia.org/wikipedia/commons/thumb/4/4e/Flag_of_Sumida%2C_Tokyo.svg/100px-Flag_of_Sumida%2C_Tokyo.svg.png 2x\" width=\"50\"/></a></td>, <td><a href=\"/wiki/Sumida,_Tokyo\" title=\"Sumida, Tokyo\">Sumida</a></td>, <td>墨田区\n",
      "</td>, <td><span style=\"visibility:hidden;color:transparent;\">0</span>260,358</td>, <td>18,910</td>, <td><span style=\"visibility:hidden;color:transparent;\">0</span>13.77\n",
      "</td>, <td><a href=\"/wiki/Kinshich%C5%8D_Station\" title=\"Kinshichō Station\">Kinshichō</a>, <a href=\"/wiki/Morishita_Station_(Tokyo)\" title=\"Morishita Station (Tokyo)\">Morishita</a>, <a href=\"/wiki/Ry%C5%8Dgoku\" title=\"Ryōgoku\">Ryōgoku</a>\n",
      "</td>]\n",
      "<td>07</td>\n",
      "[<td>08</td>, <td><a class=\"image\" href=\"/wiki/File:Flag_of_Koto,_Tokyo.svg\"><img alt=\"Flag of Koto, Tokyo.svg\" class=\"thumbborder\" data-file-height=\"400\" data-file-width=\"600\" decoding=\"async\" height=\"33\" src=\"//upload.wikimedia.org/wikipedia/commons/thumb/6/61/Flag_of_Koto%2C_Tokyo.svg/50px-Flag_of_Koto%2C_Tokyo.svg.png\" srcset=\"//upload.wikimedia.org/wikipedia/commons/thumb/6/61/Flag_of_Koto%2C_Tokyo.svg/75px-Flag_of_Koto%2C_Tokyo.svg.png 1.5x, //upload.wikimedia.org/wikipedia/commons/thumb/6/61/Flag_of_Koto%2C_Tokyo.svg/100px-Flag_of_Koto%2C_Tokyo.svg.png 2x\" width=\"50\"/></a></td>, <td><a class=\"mw-redirect\" href=\"/wiki/Koto,_Tokyo\" title=\"Koto, Tokyo\">Kōtō</a></td>, <td>江東区\n",
      "</td>, <td><span style=\"visibility:hidden;color:transparent;\">0</span>502,579</td>, <td>12,510</td>, <td><span style=\"visibility:hidden;color:transparent;\">0</span>40.16\n",
      "</td>, <td><a href=\"/wiki/Kiba_Station\" title=\"Kiba Station\">Kiba</a>, <a href=\"/wiki/Ariake,_Tokyo\" title=\"Ariake, Tokyo\">Ariake</a>, Kameido, Tōyōchō, Monzennakachō, <a class=\"mw-redirect\" href=\"/wiki/Fukagawa_(Tokyo)\" title=\"Fukagawa (Tokyo)\">Fukagawa</a>, Kiyosumi, Shirakawa, Etchūjima, Sunamachi, Aomi\n",
      "</td>]\n",
      "<td>08</td>\n",
      "[<td>09</td>, <td><a class=\"image\" href=\"/wiki/File:Flag_of_Shinagawa,_Tokyo.svg\"><img alt=\"Flag of Shinagawa, Tokyo.svg\" class=\"thumbborder\" data-file-height=\"600\" data-file-width=\"900\" decoding=\"async\" height=\"33\" src=\"//upload.wikimedia.org/wikipedia/commons/thumb/a/ab/Flag_of_Shinagawa%2C_Tokyo.svg/50px-Flag_of_Shinagawa%2C_Tokyo.svg.png\" srcset=\"//upload.wikimedia.org/wikipedia/commons/thumb/a/ab/Flag_of_Shinagawa%2C_Tokyo.svg/75px-Flag_of_Shinagawa%2C_Tokyo.svg.png 1.5x, //upload.wikimedia.org/wikipedia/commons/thumb/a/ab/Flag_of_Shinagawa%2C_Tokyo.svg/100px-Flag_of_Shinagawa%2C_Tokyo.svg.png 2x\" width=\"50\"/></a></td>, <td><a href=\"/wiki/Shinagawa\" title=\"Shinagawa\">Shinagawa</a></td>, <td>品川区\n",
      "</td>, <td><span style=\"visibility:hidden;color:transparent;\">0</span>392,492</td>, <td>17,180</td>, <td><span style=\"visibility:hidden;color:transparent;\">0</span>22.84\n",
      "</td>, <td><a href=\"/wiki/Shinagawa\" title=\"Shinagawa\">Shinagawa</a>, <a href=\"/wiki/Gotanda\" title=\"Gotanda\">Gotanda</a>, <a href=\"/wiki/%C5%8Csaki,_Tokyo\" title=\"Ōsaki, Tokyo\">Ōsaki</a>, Hatanodai, Ōimachi, <a href=\"/wiki/Tenn%C5%8Dzu_Isle\" title=\"Tennōzu Isle\">Tennōzu</a>\n",
      "</td>]\n",
      "<td>09</td>\n",
      "[<td>10</td>, <td><a class=\"image\" href=\"/wiki/File:Flag_of_Meguro,_Tokyo.svg\"><img alt=\"Flag of Meguro, Tokyo.svg\" class=\"thumbborder\" data-file-height=\"600\" data-file-width=\"900\" decoding=\"async\" height=\"33\" src=\"//upload.wikimedia.org/wikipedia/commons/thumb/0/07/Flag_of_Meguro%2C_Tokyo.svg/50px-Flag_of_Meguro%2C_Tokyo.svg.png\" srcset=\"//upload.wikimedia.org/wikipedia/commons/thumb/0/07/Flag_of_Meguro%2C_Tokyo.svg/75px-Flag_of_Meguro%2C_Tokyo.svg.png 1.5x, //upload.wikimedia.org/wikipedia/commons/thumb/0/07/Flag_of_Meguro%2C_Tokyo.svg/100px-Flag_of_Meguro%2C_Tokyo.svg.png 2x\" width=\"50\"/></a></td>, <td><a href=\"/wiki/Meguro\" title=\"Meguro\">Meguro</a></td>, <td>目黒区\n",
      "</td>, <td><span style=\"visibility:hidden;color:transparent;\">0</span>280,283</td>, <td>19,110</td>, <td><span style=\"visibility:hidden;color:transparent;\">0</span>14.67\n",
      "</td>, <td><a href=\"/wiki/Meguro\" title=\"Meguro\">Meguro</a>, <a class=\"mw-redirect\" href=\"/wiki/Nakameguro,_Meguro,_Tokyo\" title=\"Nakameguro, Meguro, Tokyo\">Nakameguro</a>, <a class=\"mw-redirect\" href=\"/wiki/Jiyugaoka\" title=\"Jiyugaoka\">Jiyugaoka</a>, <a href=\"/wiki/Komaba\" title=\"Komaba\">Komaba</a>, <a href=\"/wiki/Aobadai\" title=\"Aobadai\">Aobadai</a>\n",
      "</td>]\n",
      "<td>10</td>\n",
      "[<td>11</td>, <td><a class=\"image\" href=\"/wiki/File:Flag_of_Ota,_Tokyo.svg\"><img alt=\"Flag of Ota, Tokyo.svg\" class=\"thumbborder\" data-file-height=\"600\" data-file-width=\"900\" decoding=\"async\" height=\"33\" src=\"//upload.wikimedia.org/wikipedia/commons/thumb/6/68/Flag_of_Ota%2C_Tokyo.svg/50px-Flag_of_Ota%2C_Tokyo.svg.png\" srcset=\"//upload.wikimedia.org/wikipedia/commons/thumb/6/68/Flag_of_Ota%2C_Tokyo.svg/75px-Flag_of_Ota%2C_Tokyo.svg.png 1.5x, //upload.wikimedia.org/wikipedia/commons/thumb/6/68/Flag_of_Ota%2C_Tokyo.svg/100px-Flag_of_Ota%2C_Tokyo.svg.png 2x\" width=\"50\"/></a></td>, <td><span style=\"display:none\">Ota</span><a href=\"/wiki/%C5%8Cta,_Tokyo\" title=\"Ōta, Tokyo\">Ōta</a></td>, <td>大田区\n",
      "</td>, <td><span style=\"visibility:hidden;color:transparent;\">0</span>722,608</td>, <td>11,910</td>, <td><span style=\"visibility:hidden;color:transparent;\">0</span>60.66\n",
      "</td>, <td><a href=\"/wiki/%C5%8Cmori\" title=\"Ōmori\">Ōmori</a>, <a class=\"mw-redirect\" href=\"/wiki/Kamata,_%C5%8Cta,_Tokyo\" title=\"Kamata, Ōta, Tokyo\">Kamata</a>, <a href=\"/wiki/Haneda,_%C5%8Cta,_Tokyo\" title=\"Haneda, Ōta, Tokyo\">Haneda</a>, <a href=\"/wiki/Den-en-ch%C5%8Dfu\" title=\"Den-en-chōfu\">Den-en-chōfu</a>\n",
      "</td>]\n",
      "<td>11</td>\n",
      "[<td>12</td>, <td><a class=\"image\" href=\"/wiki/File:Flag_of_Setagaya,_Tokyo.svg\"><img alt=\"Flag of Setagaya, Tokyo.svg\" class=\"thumbborder\" data-file-height=\"600\" data-file-width=\"900\" decoding=\"async\" height=\"33\" src=\"//upload.wikimedia.org/wikipedia/commons/thumb/c/c9/Flag_of_Setagaya%2C_Tokyo.svg/50px-Flag_of_Setagaya%2C_Tokyo.svg.png\" srcset=\"//upload.wikimedia.org/wikipedia/commons/thumb/c/c9/Flag_of_Setagaya%2C_Tokyo.svg/75px-Flag_of_Setagaya%2C_Tokyo.svg.png 1.5x, //upload.wikimedia.org/wikipedia/commons/thumb/c/c9/Flag_of_Setagaya%2C_Tokyo.svg/100px-Flag_of_Setagaya%2C_Tokyo.svg.png 2x\" width=\"50\"/></a></td>, <td><a href=\"/wiki/Setagaya\" title=\"Setagaya\">Setagaya</a></td>, <td>世田谷区\n",
      "</td>, <td><span style=\"visibility:hidden;color:transparent;\">0</span>910,868</td>, <td>15,690</td>, <td><span style=\"visibility:hidden;color:transparent;\">0</span>58.05\n",
      "</td>, <td><a href=\"/wiki/Shimokitazawa\" title=\"Shimokitazawa\">Shimokitazawa</a>, Kinuta, Karasuyama, Tamagawa\n",
      "</td>]\n",
      "<td>12</td>\n",
      "[<td>13</td>, <td><a class=\"image\" href=\"/wiki/File:Flag_of_Shibuya,_Tokyo.svg\"><img alt=\"Flag of Shibuya, Tokyo.svg\" class=\"thumbborder\" data-file-height=\"600\" data-file-width=\"900\" decoding=\"async\" height=\"33\" src=\"//upload.wikimedia.org/wikipedia/commons/thumb/3/31/Flag_of_Shibuya%2C_Tokyo.svg/50px-Flag_of_Shibuya%2C_Tokyo.svg.png\" srcset=\"//upload.wikimedia.org/wikipedia/commons/thumb/3/31/Flag_of_Shibuya%2C_Tokyo.svg/75px-Flag_of_Shibuya%2C_Tokyo.svg.png 1.5x, //upload.wikimedia.org/wikipedia/commons/thumb/3/31/Flag_of_Shibuya%2C_Tokyo.svg/100px-Flag_of_Shibuya%2C_Tokyo.svg.png 2x\" width=\"50\"/></a></td>, <td><a href=\"/wiki/Shibuya\" title=\"Shibuya\">Shibuya</a></td>, <td>渋谷区\n",
      "</td>, <td><span style=\"visibility:hidden;color:transparent;\">0</span>227,850</td>, <td>15,080</td>, <td><span style=\"visibility:hidden;color:transparent;\">0</span>15.11\n",
      "</td>, <td><a href=\"/wiki/Shibuya\" title=\"Shibuya\">Shibuya</a>, <a class=\"mw-redirect\" href=\"/wiki/Ebisu,_Tokyo\" title=\"Ebisu, Tokyo\">Ebisu</a>, <a href=\"/wiki/Harajuku\" title=\"Harajuku\">Harajuku</a>, <a href=\"/wiki/Daikanyamach%C5%8D,_Shibuya\" title=\"Daikanyamachō, Shibuya\">Daikanyama</a>, <a href=\"/wiki/Hiroo,_Shibuya\" title=\"Hiroo, Shibuya\">Hiroo</a>\n",
      "</td>]\n",
      "<td>13</td>\n",
      "[<td>14</td>, <td><a class=\"image\" href=\"/wiki/File:Flag_of_Nakano,_Tokyo.svg\"><img alt=\"Flag of Nakano, Tokyo.svg\" class=\"thumbborder\" data-file-height=\"600\" data-file-width=\"900\" decoding=\"async\" height=\"33\" src=\"//upload.wikimedia.org/wikipedia/commons/thumb/a/ab/Flag_of_Nakano%2C_Tokyo.svg/50px-Flag_of_Nakano%2C_Tokyo.svg.png\" srcset=\"//upload.wikimedia.org/wikipedia/commons/thumb/a/ab/Flag_of_Nakano%2C_Tokyo.svg/75px-Flag_of_Nakano%2C_Tokyo.svg.png 1.5x, //upload.wikimedia.org/wikipedia/commons/thumb/a/ab/Flag_of_Nakano%2C_Tokyo.svg/100px-Flag_of_Nakano%2C_Tokyo.svg.png 2x\" width=\"50\"/></a></td>, <td><a href=\"/wiki/Nakano,_Tokyo\" title=\"Nakano, Tokyo\">Nakano</a></td>, <td>中野区\n",
      "</td>, <td><span style=\"visibility:hidden;color:transparent;\">0</span>332,902</td>, <td>21,350</td>, <td><span style=\"visibility:hidden;color:transparent;\">0</span>15.59\n",
      "</td>, <td><a href=\"/wiki/Nakano_Station_(Tokyo)\" title=\"Nakano Station (Tokyo)\">Nakano</a>\n",
      "</td>]\n",
      "<td>14</td>\n",
      "[<td>15</td>, <td><a class=\"image\" href=\"/wiki/File:Flag_of_Suginami,_Tokyo.svg\"><img alt=\"Flag of Suginami, Tokyo.svg\" class=\"thumbborder\" data-file-height=\"600\" data-file-width=\"900\" decoding=\"async\" height=\"33\" src=\"//upload.wikimedia.org/wikipedia/commons/thumb/b/b2/Flag_of_Suginami%2C_Tokyo.svg/50px-Flag_of_Suginami%2C_Tokyo.svg.png\" srcset=\"//upload.wikimedia.org/wikipedia/commons/thumb/b/b2/Flag_of_Suginami%2C_Tokyo.svg/75px-Flag_of_Suginami%2C_Tokyo.svg.png 1.5x, //upload.wikimedia.org/wikipedia/commons/thumb/b/b2/Flag_of_Suginami%2C_Tokyo.svg/100px-Flag_of_Suginami%2C_Tokyo.svg.png 2x\" width=\"50\"/></a></td>, <td><a href=\"/wiki/Suginami\" title=\"Suginami\">Suginami</a></td>, <td>杉並区\n",
      "</td>, <td><span style=\"visibility:hidden;color:transparent;\">0</span>570,483</td>, <td>16,750</td>, <td><span style=\"visibility:hidden;color:transparent;\">0</span>34.06\n",
      "</td>, <td><a href=\"/wiki/K%C5%8Denji\" title=\"Kōenji\">Kōenji</a>, <a href=\"/wiki/Asagaya\" title=\"Asagaya\">Asagaya</a>, <a href=\"/wiki/Ogikubo,_Tokyo\" title=\"Ogikubo, Tokyo\">Ogikubo</a>\n",
      "</td>]\n",
      "<td>15</td>\n",
      "[<td>16</td>, <td><a class=\"image\" href=\"/wiki/File:Flag_of_Toshima,_Tokyo.svg\"><img alt=\"Flag of Toshima, Tokyo.svg\" class=\"thumbborder\" data-file-height=\"600\" data-file-width=\"900\" decoding=\"async\" height=\"33\" src=\"//upload.wikimedia.org/wikipedia/commons/thumb/5/5b/Flag_of_Toshima%2C_Tokyo.svg/50px-Flag_of_Toshima%2C_Tokyo.svg.png\" srcset=\"//upload.wikimedia.org/wikipedia/commons/thumb/5/5b/Flag_of_Toshima%2C_Tokyo.svg/75px-Flag_of_Toshima%2C_Tokyo.svg.png 1.5x, //upload.wikimedia.org/wikipedia/commons/thumb/5/5b/Flag_of_Toshima%2C_Tokyo.svg/100px-Flag_of_Toshima%2C_Tokyo.svg.png 2x\" width=\"50\"/></a></td>, <td><a href=\"/wiki/Toshima\" title=\"Toshima\">Toshima</a></td>, <td>豊島区\n",
      "</td>, <td><span style=\"visibility:hidden;color:transparent;\">0</span>294,673</td>, <td>22,650</td>, <td><span style=\"visibility:hidden;color:transparent;\">0</span>13.01\n",
      "</td>, <td><a href=\"/wiki/Ikebukuro\" title=\"Ikebukuro\">Ikebukuro</a>, <a href=\"/wiki/Komagome_Station\" title=\"Komagome Station\">Komagome</a>, Senkawa, <a href=\"/wiki/Sugamo\" title=\"Sugamo\">Sugamo</a>\n",
      "</td>]\n",
      "<td>16</td>\n",
      "[<td>17</td>, <td><a class=\"image\" href=\"/wiki/File:Flag_of_Kita,_Tokyo.svg\"><img alt=\"Flag of Kita, Tokyo.svg\" class=\"thumbborder\" data-file-height=\"400\" data-file-width=\"600\" decoding=\"async\" height=\"33\" src=\"//upload.wikimedia.org/wikipedia/commons/thumb/0/01/Flag_of_Kita%2C_Tokyo.svg/50px-Flag_of_Kita%2C_Tokyo.svg.png\" srcset=\"//upload.wikimedia.org/wikipedia/commons/thumb/0/01/Flag_of_Kita%2C_Tokyo.svg/75px-Flag_of_Kita%2C_Tokyo.svg.png 1.5x, //upload.wikimedia.org/wikipedia/commons/thumb/0/01/Flag_of_Kita%2C_Tokyo.svg/100px-Flag_of_Kita%2C_Tokyo.svg.png 2x\" width=\"50\"/></a></td>, <td><a href=\"/wiki/Kita,_Tokyo\" title=\"Kita, Tokyo\">Kita</a></td>, <td>北区\n",
      "</td>, <td><span style=\"visibility:hidden;color:transparent;\">0</span>345,063</td>, <td>16,740</td>, <td><span style=\"visibility:hidden;color:transparent;\">0</span>20.61\n",
      "</td>, <td><a href=\"/wiki/Akabane_Station\" title=\"Akabane Station\">Akabane</a>, Ōji, <a href=\"/wiki/Tabata_Station_(Tokyo)\" title=\"Tabata Station (Tokyo)\">Tabata</a>\n",
      "</td>]\n",
      "<td>17</td>\n",
      "[<td>18</td>, <td><a class=\"image\" href=\"/wiki/File:Flag_of_Arakawa,_Tokyo.svg\"><img alt=\"Flag of Arakawa, Tokyo.svg\" class=\"thumbborder\" data-file-height=\"400\" data-file-width=\"600\" decoding=\"async\" height=\"33\" src=\"//upload.wikimedia.org/wikipedia/commons/thumb/8/82/Flag_of_Arakawa%2C_Tokyo.svg/50px-Flag_of_Arakawa%2C_Tokyo.svg.png\" srcset=\"//upload.wikimedia.org/wikipedia/commons/thumb/8/82/Flag_of_Arakawa%2C_Tokyo.svg/75px-Flag_of_Arakawa%2C_Tokyo.svg.png 1.5x, //upload.wikimedia.org/wikipedia/commons/thumb/8/82/Flag_of_Arakawa%2C_Tokyo.svg/100px-Flag_of_Arakawa%2C_Tokyo.svg.png 2x\" width=\"50\"/></a></td>, <td><a href=\"/wiki/Arakawa,_Tokyo\" title=\"Arakawa, Tokyo\">Arakawa</a></td>, <td>荒川区\n",
      "</td>, <td><span style=\"visibility:hidden;color:transparent;\">0</span>213,648</td>, <td>21,030</td>, <td><span style=\"visibility:hidden;color:transparent;\">0</span>10.16\n",
      "</td>, <td>Arakawa, Machiya, <a href=\"/wiki/Nippori_Station\" title=\"Nippori Station\">Nippori</a>, Minamisenju\n",
      "</td>]\n",
      "<td>18</td>\n",
      "[<td>19</td>, <td><a class=\"image\" href=\"/wiki/File:Flag_of_Itabashi,_Tokyo.svg\"><img alt=\"Flag of Itabashi, Tokyo.svg\" class=\"thumbborder\" data-file-height=\"600\" data-file-width=\"900\" decoding=\"async\" height=\"33\" src=\"//upload.wikimedia.org/wikipedia/commons/thumb/5/57/Flag_of_Itabashi%2C_Tokyo.svg/50px-Flag_of_Itabashi%2C_Tokyo.svg.png\" srcset=\"//upload.wikimedia.org/wikipedia/commons/thumb/5/57/Flag_of_Itabashi%2C_Tokyo.svg/75px-Flag_of_Itabashi%2C_Tokyo.svg.png 1.5x, //upload.wikimedia.org/wikipedia/commons/thumb/5/57/Flag_of_Itabashi%2C_Tokyo.svg/100px-Flag_of_Itabashi%2C_Tokyo.svg.png 2x\" width=\"50\"/></a></td>, <td><a href=\"/wiki/Itabashi\" title=\"Itabashi\">Itabashi</a></td>, <td>板橋区\n",
      "</td>, <td><span style=\"visibility:hidden;color:transparent;\">0</span>569,225</td>, <td>17,670</td>, <td><span style=\"visibility:hidden;color:transparent;\">0</span>32.22\n",
      "</td>, <td><a href=\"/wiki/Itabashi\" title=\"Itabashi\">Itabashi</a>, Takashimadaira\n",
      "</td>]\n",
      "<td>19</td>\n",
      "[<td>20</td>, <td><a class=\"image\" href=\"/wiki/File:Flag_of_Nerima,_Tokyo.svg\"><img alt=\"Flag of Nerima, Tokyo.svg\" class=\"thumbborder\" data-file-height=\"600\" data-file-width=\"900\" decoding=\"async\" height=\"33\" src=\"//upload.wikimedia.org/wikipedia/commons/thumb/9/94/Flag_of_Nerima%2C_Tokyo.svg/50px-Flag_of_Nerima%2C_Tokyo.svg.png\" srcset=\"//upload.wikimedia.org/wikipedia/commons/thumb/9/94/Flag_of_Nerima%2C_Tokyo.svg/75px-Flag_of_Nerima%2C_Tokyo.svg.png 1.5x, //upload.wikimedia.org/wikipedia/commons/thumb/9/94/Flag_of_Nerima%2C_Tokyo.svg/100px-Flag_of_Nerima%2C_Tokyo.svg.png 2x\" width=\"50\"/></a></td>, <td><a href=\"/wiki/Nerima\" title=\"Nerima\">Nerima</a></td>, <td>練馬区\n",
      "</td>, <td><span style=\"visibility:hidden;color:transparent;\">0</span>726,748</td>, <td>15,120</td>, <td><span style=\"visibility:hidden;color:transparent;\">0</span>48.08\n",
      "</td>, <td><a href=\"/wiki/Nerima\" title=\"Nerima\">Nerima</a>, <a href=\"/wiki/%C5%8Cizumimachi,_Nerima,_Tokyo\" title=\"Ōizumimachi, Nerima, Tokyo\">Ōizumi</a>, <a class=\"mw-redirect\" href=\"/wiki/Hikarigaoka\" title=\"Hikarigaoka\">Hikarigaoka</a>\n",
      "</td>]\n",
      "<td>20</td>\n",
      "[<td>21</td>, <td><a class=\"image\" href=\"/wiki/File:Flag_of_Adachi,_Tokyo.svg\"><img alt=\"Flag of Adachi, Tokyo.svg\" class=\"thumbborder\" data-file-height=\"600\" data-file-width=\"900\" decoding=\"async\" height=\"33\" src=\"//upload.wikimedia.org/wikipedia/commons/thumb/0/08/Flag_of_Adachi%2C_Tokyo.svg/50px-Flag_of_Adachi%2C_Tokyo.svg.png\" srcset=\"//upload.wikimedia.org/wikipedia/commons/thumb/0/08/Flag_of_Adachi%2C_Tokyo.svg/75px-Flag_of_Adachi%2C_Tokyo.svg.png 1.5x, //upload.wikimedia.org/wikipedia/commons/thumb/0/08/Flag_of_Adachi%2C_Tokyo.svg/100px-Flag_of_Adachi%2C_Tokyo.svg.png 2x\" width=\"50\"/></a></td>, <td><a href=\"/wiki/Adachi,_Tokyo\" title=\"Adachi, Tokyo\">Adachi</a></td>, <td style=\"width:4em;\">足立区\n",
      "</td>, <td><span style=\"visibility:hidden;color:transparent;\">0</span>674,067</td>, <td>12,660</td>, <td><span style=\"visibility:hidden;color:transparent;\">0</span>53.25\n",
      "</td>, <td>Ayase, <a href=\"/wiki/Kita-Senju_Station\" title=\"Kita-Senju Station\">Kitasenju</a>, Takenotsuka\n",
      "</td>]\n",
      "<td>21</td>\n",
      "[<td>22</td>, <td><a class=\"image\" href=\"/wiki/File:Flag_of_Katsushika-ku,_Tokyo.svg\"><img alt=\"Flag of Katsushika-ku, Tokyo.svg\" class=\"thumbborder\" data-file-height=\"216\" data-file-width=\"324\" decoding=\"async\" height=\"33\" src=\"//upload.wikimedia.org/wikipedia/commons/thumb/4/43/Flag_of_Katsushika-ku%2C_Tokyo.svg/50px-Flag_of_Katsushika-ku%2C_Tokyo.svg.png\" srcset=\"//upload.wikimedia.org/wikipedia/commons/thumb/4/43/Flag_of_Katsushika-ku%2C_Tokyo.svg/75px-Flag_of_Katsushika-ku%2C_Tokyo.svg.png 1.5x, //upload.wikimedia.org/wikipedia/commons/thumb/4/43/Flag_of_Katsushika-ku%2C_Tokyo.svg/100px-Flag_of_Katsushika-ku%2C_Tokyo.svg.png 2x\" width=\"50\"/></a></td>, <td><a href=\"/wiki/Katsushika\" title=\"Katsushika\">Katsushika</a></td>, <td>葛飾区\n",
      "</td>, <td><span style=\"visibility:hidden;color:transparent;\">0</span>447,140</td>, <td>12,850</td>, <td><span style=\"visibility:hidden;color:transparent;\">0</span>34.80\n",
      "</td>, <td><a class=\"mw-redirect\" href=\"/wiki/Tateishi\" title=\"Tateishi\">Tateishi</a>, Aoto, Kameari, Shibamata\n",
      "</td>]\n",
      "<td>22</td>\n",
      "[<td>23</td>, <td><a class=\"image\" href=\"/wiki/File:Flag_of_Edogawa,_Tokyo.svg\"><img alt=\"Flag of Edogawa, Tokyo.svg\" class=\"thumbborder\" data-file-height=\"400\" data-file-width=\"600\" decoding=\"async\" height=\"33\" src=\"//upload.wikimedia.org/wikipedia/commons/thumb/b/be/Flag_of_Edogawa%2C_Tokyo.svg/50px-Flag_of_Edogawa%2C_Tokyo.svg.png\" srcset=\"//upload.wikimedia.org/wikipedia/commons/thumb/b/be/Flag_of_Edogawa%2C_Tokyo.svg/75px-Flag_of_Edogawa%2C_Tokyo.svg.png 1.5x, //upload.wikimedia.org/wikipedia/commons/thumb/b/be/Flag_of_Edogawa%2C_Tokyo.svg/100px-Flag_of_Edogawa%2C_Tokyo.svg.png 2x\" width=\"50\"/></a></td>, <td><a href=\"/wiki/Edogawa,_Tokyo\" title=\"Edogawa, Tokyo\">Edogawa</a></td>, <td>江戸川区\n",
      "</td>, <td><span style=\"visibility:hidden;color:transparent;\">0</span>685,899</td>, <td>13,750</td>, <td><span style=\"visibility:hidden;color:transparent;\">0</span>49.90\n",
      "</td>, <td>Kasai, Koiwa\n",
      "</td>]\n",
      "<td>23</td>\n",
      "[<td colspan=\"4\"><i><b>Overall</b></i>\n",
      "</td>, <td><i>9,375,104</i></td>, <td><i>15,146</i></td>, <td><i>619</i></td>, <td>\n",
      "</td>]\n"
     ]
    }
   ],
   "source": [
    "Name=[]\n",
    "Kanji = []\n",
    "Pop = []\n",
    "Density = []\n",
    "num = []\n",
    "flag = []\n",
    "Area = []\n",
    "District = []\n",
    "\n",
    "for row in Wards.findAll(\"tr\"):   \n",
    "    Ward = row.findAll('td')\n",
    "    print (Ward)\n",
    "    # Extracting the body leaving heading\n",
    "    if len(Ward)==8: \n",
    "        print (Ward[0])\n",
    "        num.append(Ward[0].find(text=True))\n",
    "        flag.append(Ward[1].findAll('a')) \n",
    "        Name.append(Ward[2])\n",
    "        Kanji.append(Ward[3].find(text=True))\n",
    "        Pop.append(Ward[4])\n",
    "        Area.append(Ward[5].find(text=True))\n",
    "        District.append(Ward[7].find(text=True))\n",
    "            "
   ]
  },
  {
   "cell_type": "code",
   "execution_count": 6,
   "metadata": {},
   "outputs": [
    {
     "data": {
      "text/plain": [
       "'18,620'"
      ]
     },
     "execution_count": 6,
     "metadata": {},
     "output_type": "execute_result"
    }
   ],
   "source": [
    "Area[3]"
   ]
  },
  {
   "cell_type": "code",
   "execution_count": 7,
   "metadata": {},
   "outputs": [],
   "source": [
    "# Replacing with the true value 5100.\n",
    "Area = ['5100' if x=='0' else x for x in Area]\n",
    "Area_new = []"
   ]
  },
  {
   "cell_type": "code",
   "execution_count": 8,
   "metadata": {},
   "outputs": [
    {
     "name": "stdout",
     "output_type": "stream",
     "text": [
      "5100\n",
      "14460\n",
      "12180\n",
      "18620\n",
      "19790\n",
      "19830\n",
      "18910\n",
      "12510\n",
      "17180\n",
      "19110\n",
      "11910\n",
      "15690\n",
      "15080\n",
      "21350\n",
      "16750\n",
      "22650\n",
      "16740\n",
      "21030\n",
      "17670\n",
      "15120\n",
      "12660\n",
      "12850\n",
      "13750\n"
     ]
    }
   ],
   "source": [
    "# Changing the type of Area list. \n",
    "for a in range(len(Area)):\n",
    "    area=Area[a].replace(\",\",\"\")\n",
    "    print (area)\n",
    "    Area_new.append(area)\n",
    "\n",
    "Area_new=[int(a) for a in Area_new]"
   ]
  },
  {
   "cell_type": "code",
   "execution_count": 9,
   "metadata": {},
   "outputs": [
    {
     "name": "stdout",
     "output_type": "stream",
     "text": [
      "<td><a href=\"/wiki/Chiyoda,_Tokyo\" title=\"Chiyoda, Tokyo\">Chiyoda</a></td>\n",
      "<td><a href=\"/wiki/Ch%C5%AB%C5%8D,_Tokyo\" title=\"Chūō, Tokyo\">Chūō</a></td>\n",
      "<td><a href=\"/wiki/Minato,_Tokyo\" title=\"Minato, Tokyo\">Minato</a></td>\n",
      "<td><a href=\"/wiki/Shinjuku\" title=\"Shinjuku\">Shinjuku</a></td>\n",
      "<td><a href=\"/wiki/Bunky%C5%8D\" title=\"Bunkyō\">Bunkyō</a></td>\n",
      "<td><a href=\"/wiki/Tait%C5%8D\" title=\"Taitō\">Taitō</a></td>\n",
      "<td><a href=\"/wiki/Sumida,_Tokyo\" title=\"Sumida, Tokyo\">Sumida</a></td>\n",
      "<td><a class=\"mw-redirect\" href=\"/wiki/Koto,_Tokyo\" title=\"Koto, Tokyo\">Kōtō</a></td>\n",
      "<td><a href=\"/wiki/Shinagawa\" title=\"Shinagawa\">Shinagawa</a></td>\n",
      "<td><a href=\"/wiki/Meguro\" title=\"Meguro\">Meguro</a></td>\n",
      "<td><span style=\"display:none\">Ota</span><a href=\"/wiki/%C5%8Cta,_Tokyo\" title=\"Ōta, Tokyo\">Ōta</a></td>\n",
      "<td><a href=\"/wiki/Setagaya\" title=\"Setagaya\">Setagaya</a></td>\n",
      "<td><a href=\"/wiki/Shibuya\" title=\"Shibuya\">Shibuya</a></td>\n",
      "<td><a href=\"/wiki/Nakano,_Tokyo\" title=\"Nakano, Tokyo\">Nakano</a></td>\n",
      "<td><a href=\"/wiki/Suginami\" title=\"Suginami\">Suginami</a></td>\n",
      "<td><a href=\"/wiki/Toshima\" title=\"Toshima\">Toshima</a></td>\n",
      "<td><a href=\"/wiki/Kita,_Tokyo\" title=\"Kita, Tokyo\">Kita</a></td>\n",
      "<td><a href=\"/wiki/Arakawa,_Tokyo\" title=\"Arakawa, Tokyo\">Arakawa</a></td>\n",
      "<td><a href=\"/wiki/Itabashi\" title=\"Itabashi\">Itabashi</a></td>\n",
      "<td><a href=\"/wiki/Nerima\" title=\"Nerima\">Nerima</a></td>\n",
      "<td><a href=\"/wiki/Adachi,_Tokyo\" title=\"Adachi, Tokyo\">Adachi</a></td>\n",
      "<td><a href=\"/wiki/Katsushika\" title=\"Katsushika\">Katsushika</a></td>\n",
      "<td><a href=\"/wiki/Edogawa,_Tokyo\" title=\"Edogawa, Tokyo\">Edogawa</a></td>\n",
      "[[<a href=\"/wiki/Chiyoda,_Tokyo\" title=\"Chiyoda, Tokyo\">Chiyoda</a>], [<a href=\"/wiki/Ch%C5%AB%C5%8D,_Tokyo\" title=\"Chūō, Tokyo\">Chūō</a>], [<a href=\"/wiki/Minato,_Tokyo\" title=\"Minato, Tokyo\">Minato</a>], [<a href=\"/wiki/Shinjuku\" title=\"Shinjuku\">Shinjuku</a>], [<a href=\"/wiki/Bunky%C5%8D\" title=\"Bunkyō\">Bunkyō</a>], [<a href=\"/wiki/Tait%C5%8D\" title=\"Taitō\">Taitō</a>], [<a href=\"/wiki/Sumida,_Tokyo\" title=\"Sumida, Tokyo\">Sumida</a>], [<a class=\"mw-redirect\" href=\"/wiki/Koto,_Tokyo\" title=\"Koto, Tokyo\">Kōtō</a>], [<a href=\"/wiki/Shinagawa\" title=\"Shinagawa\">Shinagawa</a>], [<a href=\"/wiki/Meguro\" title=\"Meguro\">Meguro</a>], [<a href=\"/wiki/%C5%8Cta,_Tokyo\" title=\"Ōta, Tokyo\">Ōta</a>], [<a href=\"/wiki/Setagaya\" title=\"Setagaya\">Setagaya</a>], [<a href=\"/wiki/Shibuya\" title=\"Shibuya\">Shibuya</a>], [<a href=\"/wiki/Nakano,_Tokyo\" title=\"Nakano, Tokyo\">Nakano</a>], [<a href=\"/wiki/Suginami\" title=\"Suginami\">Suginami</a>], [<a href=\"/wiki/Toshima\" title=\"Toshima\">Toshima</a>], [<a href=\"/wiki/Kita,_Tokyo\" title=\"Kita, Tokyo\">Kita</a>], [<a href=\"/wiki/Arakawa,_Tokyo\" title=\"Arakawa, Tokyo\">Arakawa</a>], [<a href=\"/wiki/Itabashi\" title=\"Itabashi\">Itabashi</a>], [<a href=\"/wiki/Nerima\" title=\"Nerima\">Nerima</a>], [<a href=\"/wiki/Adachi,_Tokyo\" title=\"Adachi, Tokyo\">Adachi</a>], [<a href=\"/wiki/Katsushika\" title=\"Katsushika\">Katsushika</a>], [<a href=\"/wiki/Edogawa,_Tokyo\" title=\"Edogawa, Tokyo\">Edogawa</a>]]\n"
     ]
    }
   ],
   "source": [
    "new_names = []\n",
    "for n in range(len(Name)):\n",
    "    print (Name[n])\n",
    "    names = Name[n].findAll('a')\n",
    "    new_names.append(names) \n",
    "\n",
    "print (new_names)"
   ]
  },
  {
   "cell_type": "code",
   "execution_count": 10,
   "metadata": {},
   "outputs": [
    {
     "name": "stdout",
     "output_type": "stream",
     "text": [
      "[<a href=\"/wiki/Chiyoda,_Tokyo\" title=\"Chiyoda, Tokyo\">Chiyoda</a>, <a href=\"/wiki/Ch%C5%AB%C5%8D,_Tokyo\" title=\"Chūō, Tokyo\">Chūō</a>, <a href=\"/wiki/Minato,_Tokyo\" title=\"Minato, Tokyo\">Minato</a>, <a href=\"/wiki/Shinjuku\" title=\"Shinjuku\">Shinjuku</a>, <a href=\"/wiki/Bunky%C5%8D\" title=\"Bunkyō\">Bunkyō</a>, <a href=\"/wiki/Tait%C5%8D\" title=\"Taitō\">Taitō</a>, <a href=\"/wiki/Sumida,_Tokyo\" title=\"Sumida, Tokyo\">Sumida</a>, <a class=\"mw-redirect\" href=\"/wiki/Koto,_Tokyo\" title=\"Koto, Tokyo\">Kōtō</a>, <a href=\"/wiki/Shinagawa\" title=\"Shinagawa\">Shinagawa</a>, <a href=\"/wiki/Meguro\" title=\"Meguro\">Meguro</a>, <a href=\"/wiki/%C5%8Cta,_Tokyo\" title=\"Ōta, Tokyo\">Ōta</a>, <a href=\"/wiki/Setagaya\" title=\"Setagaya\">Setagaya</a>, <a href=\"/wiki/Shibuya\" title=\"Shibuya\">Shibuya</a>, <a href=\"/wiki/Nakano,_Tokyo\" title=\"Nakano, Tokyo\">Nakano</a>, <a href=\"/wiki/Suginami\" title=\"Suginami\">Suginami</a>, <a href=\"/wiki/Toshima\" title=\"Toshima\">Toshima</a>, <a href=\"/wiki/Kita,_Tokyo\" title=\"Kita, Tokyo\">Kita</a>, <a href=\"/wiki/Arakawa,_Tokyo\" title=\"Arakawa, Tokyo\">Arakawa</a>, <a href=\"/wiki/Itabashi\" title=\"Itabashi\">Itabashi</a>, <a href=\"/wiki/Nerima\" title=\"Nerima\">Nerima</a>, <a href=\"/wiki/Adachi,_Tokyo\" title=\"Adachi, Tokyo\">Adachi</a>, <a href=\"/wiki/Katsushika\" title=\"Katsushika\">Katsushika</a>, <a href=\"/wiki/Edogawa,_Tokyo\" title=\"Edogawa, Tokyo\">Edogawa</a>]\n"
     ]
    }
   ],
   "source": [
    "flat_new_names = [item for sublist in new_names for item in sublist]\n",
    "print (flat_new_names)"
   ]
  },
  {
   "cell_type": "code",
   "execution_count": 11,
   "metadata": {},
   "outputs": [
    {
     "name": "stdout",
     "output_type": "stream",
     "text": [
      "['Chiyoda, Tokyo', 'Chūō, Tokyo', 'Minato, Tokyo', 'Shinjuku', 'Bunkyō', 'Taitō', 'Sumida, Tokyo', 'Koto, Tokyo', 'Shinagawa', 'Meguro', 'Ōta, Tokyo', 'Setagaya', 'Shibuya', 'Nakano, Tokyo', 'Suginami', 'Toshima', 'Kita, Tokyo', 'Arakawa, Tokyo', 'Itabashi', 'Nerima', 'Adachi, Tokyo', 'Katsushika', 'Edogawa, Tokyo']\n"
     ]
    }
   ],
   "source": [
    "Wards_names= [] \n",
    "for name_wards in flat_new_names:\n",
    "        Wards_names.append(name_wards.get('title'))\n",
    "\n",
    "print (Wards_names)"
   ]
  },
  {
   "cell_type": "code",
   "execution_count": 12,
   "metadata": {},
   "outputs": [
    {
     "name": "stdout",
     "output_type": "stream",
     "text": [
      "['Chiyoda', 'Chuo', 'Minato', 'Shinjuku', 'Bunkyō', 'Taitō', 'Sumida', 'Koto', 'Shinagawa', 'Meguro', 'Ota', 'Setagaya', 'Shibuya', 'Nakano', 'Suginami', 'Toshima', 'Kita', 'Arakawa', 'Itabashi', 'Nerima', 'Adachi', 'Katsushika', 'Edogawa']\n"
     ]
    }
   ],
   "source": [
    "# Removing 'Tokyo' from certain wards.\n",
    "replacement={'Chiyoda, Tokyo':'Chiyoda', 'Chūō, Tokyo':'Chuo', 'Minato, Tokyo':'Minato', \n",
    "               'Sumida, Tokyo':'Sumida', 'Koto, Tokyo':'Koto', 'Ōta, Tokyo':'Ota', 'Nakano, Tokyo':'Nakano', \n",
    "               'Kita, Tokyo':'Kita', 'Arakawa, Tokyo':'Arakawa', 'Adachi, Tokyo':'Adachi', 'Edogawa, Tokyo':'Edogawa'}\n",
    "\n",
    "\n",
    "Wards_names1 = [replacement.get(name,name) for name in Wards_names]\n",
    "print(Wards_names1)"
   ]
  },
  {
   "cell_type": "code",
   "execution_count": 13,
   "metadata": {},
   "outputs": [
    {
     "name": "stdout",
     "output_type": "stream",
     "text": [
      "<td><span style=\"visibility:hidden;color:transparent;\">0</span><span style=\"visibility:hidden;color:transparent;\">0</span>59,441</td>\n",
      "059,441\n",
      "<td><span style=\"visibility:hidden;color:transparent;\">0</span>147,620</td>\n",
      "147,620\n",
      "<td><span style=\"visibility:hidden;color:transparent;\">0</span>248,071</td>\n",
      "248,071\n",
      "<td><span style=\"visibility:hidden;color:transparent;\">0</span>339,211</td>\n",
      "339,211\n",
      "<td><span style=\"visibility:hidden;color:transparent;\">0</span>223,389</td>\n",
      "223,389\n",
      "<td><span style=\"visibility:hidden;color:transparent;\">0</span>200,486</td>\n",
      "200,486\n",
      "<td><span style=\"visibility:hidden;color:transparent;\">0</span>260,358</td>\n",
      "260,358\n",
      "<td><span style=\"visibility:hidden;color:transparent;\">0</span>502,579</td>\n",
      "502,579\n",
      "<td><span style=\"visibility:hidden;color:transparent;\">0</span>392,492</td>\n",
      "392,492\n",
      "<td><span style=\"visibility:hidden;color:transparent;\">0</span>280,283</td>\n",
      "280,283\n",
      "<td><span style=\"visibility:hidden;color:transparent;\">0</span>722,608</td>\n",
      "722,608\n",
      "<td><span style=\"visibility:hidden;color:transparent;\">0</span>910,868</td>\n",
      "910,868\n",
      "<td><span style=\"visibility:hidden;color:transparent;\">0</span>227,850</td>\n",
      "227,850\n",
      "<td><span style=\"visibility:hidden;color:transparent;\">0</span>332,902</td>\n",
      "332,902\n",
      "<td><span style=\"visibility:hidden;color:transparent;\">0</span>570,483</td>\n",
      "570,483\n",
      "<td><span style=\"visibility:hidden;color:transparent;\">0</span>294,673</td>\n",
      "294,673\n",
      "<td><span style=\"visibility:hidden;color:transparent;\">0</span>345,063</td>\n",
      "345,063\n",
      "<td><span style=\"visibility:hidden;color:transparent;\">0</span>213,648</td>\n",
      "213,648\n",
      "<td><span style=\"visibility:hidden;color:transparent;\">0</span>569,225</td>\n",
      "569,225\n",
      "<td><span style=\"visibility:hidden;color:transparent;\">0</span>726,748</td>\n",
      "726,748\n",
      "<td><span style=\"visibility:hidden;color:transparent;\">0</span>674,067</td>\n",
      "674,067\n",
      "<td><span style=\"visibility:hidden;color:transparent;\">0</span>447,140</td>\n",
      "447,140\n",
      "<td><span style=\"visibility:hidden;color:transparent;\">0</span>685,899</td>\n",
      "685,899\n",
      "['059,441', '147,620', '248,071', '339,211', '223,389', '200,486', '260,358', '502,579', '392,492', '280,283', '722,608', '910,868', '227,850', '332,902', '570,483', '294,673', '345,063', '213,648', '569,225', '726,748', '674,067', '447,140', '685,899']\n"
     ]
    }
   ],
   "source": [
    "population = []\n",
    "for p in range(len(Pop)):\n",
    "    print ((Pop[p]))\n",
    "    pops = Pop[p].text[1:9]\n",
    "    print (Pop[p].text[1:9])\n",
    "    population.append(pops) \n",
    "print (population)"
   ]
  },
  {
   "cell_type": "code",
   "execution_count": 15,
   "metadata": {},
   "outputs": [
    {
     "name": "stdout",
     "output_type": "stream",
     "text": [
      "059441\n",
      "147620\n",
      "248071\n",
      "339211\n",
      "223389\n",
      "200486\n",
      "260358\n",
      "502579\n",
      "392492\n",
      "280283\n",
      "722608\n",
      "910868\n",
      "227850\n",
      "332902\n",
      "570483\n",
      "294673\n",
      "345063\n",
      "213648\n",
      "569225\n",
      "726748\n",
      "674067\n",
      "447140\n",
      "685899\n"
     ]
    }
   ],
   "source": [
    "population_new = []\n",
    "for po in range(len(population)):\n",
    "    pop=population[po].replace(\",\",\"\")\n",
    "    print (pop)\n",
    "    population_new.append(pop)\n",
    "\n",
    "population_new=[int(s1) for s1 in population_new]"
   ]
  },
  {
   "cell_type": "code",
   "execution_count": 16,
   "metadata": {},
   "outputs": [
    {
     "name": "stdout",
     "output_type": "stream",
     "text": [
      "['Nagatacho', 'Nihonbashi', 'Odaiba', 'Shinjuku', 'Hongo', 'Ueno', 'Kinshicho', 'Kiba', 'Shinagawa', 'Meguro', 'Omori', 'Shimokitazawa', 'Shibuya', 'Nakano', 'Koenji', 'Ikebukuro', 'Akabane', 'Arakawa', 'Itabashi', 'Nerima', 'Ayase', 'Tateishi', 'Kasai']\n"
     ]
    }
   ],
   "source": [
    "districts_replace = {'Nagatachō':'Nagatacho', 'Hongō':'Hongo', 'Kinshichō':'Kinshicho', 'Ōmori': 'Omori', \n",
    "                     'Kōenji':'Koenji', 'Arakawa, Machiya, ':'Arakawa', 'Ayase, ':'Ayase', 'Kasai, Koiwa\\n':'Kasai'}\n",
    "\n",
    "\n",
    "District_names1 = [districts_replace.get(dis,dis) for dis in District]\n",
    "print(District_names1)"
   ]
  },
  {
   "cell_type": "code",
   "execution_count": 18,
   "metadata": {},
   "outputs": [],
   "source": [
    "df=pd.DataFrame(Wards_names1,columns=['Ward'])\n",
    "df['Area_SqKm'] = Area_new\n",
    "df['Population'] = population_new\n",
    "df['District'] = District_names1\n",
    "# Starting the index from 0.\n",
    "df.index = np.arange(1, len(df) + 1)"
   ]
  },
  {
   "cell_type": "code",
   "execution_count": 19,
   "metadata": {},
   "outputs": [],
   "source": [
    "geolocator = Nominatim(user_agent=\"Tokyo_explorer_new\")\n",
    "df['Dist_Coord']= df['District'].apply(geolocator.geocode).apply(lambda x: (x.latitude, x.longitude))\n",
    "df[['Latitude', 'Longitude']] = df['Dist_Coord'].apply(pd.Series)\n",
    "\n",
    "df.drop(['Dist_Coord'], axis=1, inplace=True)"
   ]
  },
  {
   "cell_type": "code",
   "execution_count": 20,
   "metadata": {},
   "outputs": [
    {
     "name": "stdout",
     "output_type": "stream",
     "text": [
      "latitude list:  [35.675618, 35.68406775, 35.626722, 35.6937632, 35.1753761, 35.7117896, 35.6963122, 23.0131338, 35.599252, 35.62125, 35.5884735, 35.6616779, 35.6645956, 35.718123, 35.7049419, 35.7310839, 35.7781394, 35.737529, 35.774143, 35.74836, 35.4460475, 33.4817913, -5.3498001]\n",
      "Longitude list:  [139.7434685, 139.77450291683806, 139.7721007, 139.7036319, 137.0134764, 139.7775976, 139.8150431, -80.8328748, 139.73891, 139.688014, 139.7279334, 139.6663345, 139.6987107, 139.664468, 139.649909, 139.7089164, 139.7207999, 139.78131, 139.681209, 139.638735, 139.430823, 131.4781536, 21.424098]\n"
     ]
    }
   ],
   "source": [
    "Lat = df['Latitude'].tolist()\n",
    "Long= df['Longitude'].tolist()\n",
    "print (\"latitude list: \", Lat)\n",
    "print (\"Longitude list: \", Long)"
   ]
  },
  {
   "cell_type": "code",
   "execution_count": 22,
   "metadata": {},
   "outputs": [],
   "source": [
    "# Replacing incorrect Coordinates.\n",
    "lat_replace = {32.5093796:35.7088, 23.0131338:35.6722, -38.9047057:35.5884, -5.3498001:35.6634}\n",
    "long_replace = {-116.2970014:139.7601, -80.8328748:139.8061, 175.7552111:139.7279, 21.424098:139.8731}\n",
    "\n",
    "lat_new = [lat_replace.get(lat,lat) for lat in Lat]\n",
    "long_new = [long_replace.get(long, long) for long in Long]\n"
   ]
  },
  {
   "cell_type": "code",
   "execution_count": 25,
   "metadata": {},
   "outputs": [],
   "source": [
    "df['Dist_Latitude'] = lat_new\n",
    "df['Dist_Longitude'] = long_new"
   ]
  },
  {
   "cell_type": "code",
   "execution_count": 26,
   "metadata": {},
   "outputs": [],
   "source": [
    "Tokyo= df.drop(['Latitude', 'Longitude'], axis=1)"
   ]
  },
  {
   "cell_type": "code",
   "execution_count": 28,
   "metadata": {},
   "outputs": [
    {
     "data": {
      "text/html": [
       "<div>\n",
       "<style scoped>\n",
       "    .dataframe tbody tr th:only-of-type {\n",
       "        vertical-align: middle;\n",
       "    }\n",
       "\n",
       "    .dataframe tbody tr th {\n",
       "        vertical-align: top;\n",
       "    }\n",
       "\n",
       "    .dataframe thead th {\n",
       "        text-align: right;\n",
       "    }\n",
       "</style>\n",
       "<table border=\"1\" class=\"dataframe\">\n",
       "  <thead>\n",
       "    <tr style=\"text-align: right;\">\n",
       "      <th></th>\n",
       "      <th>Ward</th>\n",
       "      <th>Area_SqKm</th>\n",
       "      <th>Population</th>\n",
       "      <th>District</th>\n",
       "      <th>Dist_Latitude</th>\n",
       "      <th>Dist_Longitude</th>\n",
       "    </tr>\n",
       "  </thead>\n",
       "  <tbody>\n",
       "    <tr>\n",
       "      <th>1</th>\n",
       "      <td>Chiyoda</td>\n",
       "      <td>5100</td>\n",
       "      <td>59441</td>\n",
       "      <td>Nagatacho</td>\n",
       "      <td>35.675618</td>\n",
       "      <td>139.743469</td>\n",
       "    </tr>\n",
       "    <tr>\n",
       "      <th>2</th>\n",
       "      <td>Chuo</td>\n",
       "      <td>14460</td>\n",
       "      <td>147620</td>\n",
       "      <td>Nihonbashi</td>\n",
       "      <td>35.684068</td>\n",
       "      <td>139.774503</td>\n",
       "    </tr>\n",
       "    <tr>\n",
       "      <th>3</th>\n",
       "      <td>Minato</td>\n",
       "      <td>12180</td>\n",
       "      <td>248071</td>\n",
       "      <td>Odaiba</td>\n",
       "      <td>35.626722</td>\n",
       "      <td>139.772101</td>\n",
       "    </tr>\n",
       "  </tbody>\n",
       "</table>\n",
       "</div>"
      ],
      "text/plain": [
       "      Ward  Area_SqKm  Population    District  Dist_Latitude  Dist_Longitude\n",
       "1  Chiyoda       5100       59441   Nagatacho      35.675618      139.743469\n",
       "2     Chuo      14460      147620  Nihonbashi      35.684068      139.774503\n",
       "3   Minato      12180      248071      Odaiba      35.626722      139.772101"
      ]
     },
     "execution_count": 28,
     "metadata": {},
     "output_type": "execute_result"
    }
   ],
   "source": [
    "Tokyo.head(3)"
   ]
  },
  {
   "cell_type": "code",
   "execution_count": 27,
   "metadata": {},
   "outputs": [],
   "source": [
    "# Keeping a copy.\n",
    "Tokyo.to_csv(\"Tokyo_Scaped.csv\")"
   ]
  },
  {
   "cell_type": "code",
   "execution_count": 29,
   "metadata": {},
   "outputs": [
    {
     "name": "stdout",
     "output_type": "stream",
     "text": [
      "The geograpical coordinates of Tokyo are 35.6828387, 139.7594549.\n"
     ]
    }
   ],
   "source": [
    "# Fetching Tokyo's Latitude and Longitude. \n",
    "address = 'Tokyo'\n",
    "geolocator = Nominatim(user_agent=\"Tokyo_explorer\")\n",
    "location = geolocator.geocode(address)\n",
    "Tokyo_latitude = location.latitude\n",
    "Tokyo_longitude = location.longitude\n",
    "print('The geograpical coordinates of Tokyo are {}, {}.'.format(Tokyo_latitude, Tokyo_longitude))"
   ]
  },
  {
   "cell_type": "code",
   "execution_count": 34,
   "metadata": {},
   "outputs": [
    {
     "data": {
      "text/html": [
       "<div style=\"width:100%;\"><div style=\"position:relative;width:100%;height:0;padding-bottom:60%;\"><span style=\"color:#565656\">Make this Notebook Trusted to load map: File -> Trust Notebook</span><iframe src=\"about:blank\" style=\"position:absolute;width:100%;height:100%;left:0;top:0;border:none !important;\" data-html=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 onload=\"this.contentDocument.open();this.contentDocument.write(atob(this.getAttribute('data-html')));this.contentDocument.close();\" allowfullscreen webkitallowfullscreen mozallowfullscreen></iframe></div></div>"
      ],
      "text/plain": [
       "<folium.folium.Map at 0x283eddf4c40>"
      ]
     },
     "execution_count": 34,
     "metadata": {},
     "output_type": "execute_result"
    }
   ],
   "source": [
    "Tokyo_map = folium.Map(location=[Tokyo_latitude, Tokyo_longitude], zoom_start=12)\n",
    "\n",
    "# Adding markers.\n",
    "for lat, lng, label in zip(Tokyo['Dist_Latitude'], Tokyo['Dist_Longitude'], \n",
    "                           Tokyo['District']):\n",
    "    label = folium.Popup(label, parse_html=True)\n",
    "    folium.CircleMarker(\n",
    "        [lat, lng],\n",
    "        radius=9,\n",
    "        popup=label,\n",
    "        color='RED',\n",
    "        fill=True,\n",
    "        fill_color='#FFFFFF',\n",
    "        fill_opacity=1).add_to(Tokyo_map)  \n",
    "    \n",
    "Tokyo_map"
   ]
  },
  {
   "cell_type": "code",
   "execution_count": 35,
   "metadata": {},
   "outputs": [],
   "source": [
    "CLIENT_ID = 'xxxxxxxxxx' # Use your client ID\n",
    "CLIENT_SECRET = 'xxxxxxxx' # Use your client secret\n",
    "VERSION = '20201206' "
   ]
  },
  {
   "cell_type": "code",
   "execution_count": 36,
   "metadata": {},
   "outputs": [],
   "source": [
    "radius=550\n",
    "categoryId='4bf58dd8d48988d10f941735'# This is the category Id for Indian Restaurants.\n",
    "limit=50 # This is the maximum limit for search queries.\n",
    "\n",
    "def getNearbyVenues(names, latitudes, longitudes, radius=1000):\n",
    "    \n",
    "    venues_list=[]\n",
    "    for name, lat, lng in zip(names, latitudes, longitudes):\n",
    "        print(name)\n",
    "            \n",
    "        url = 'https://api.foursquare.com/v2/venues/search?&client_id={}&client_secret={}&v={}&ll={},{}&radius={}&limit={}&categoryId={}'.format(\n",
    "            CLIENT_ID, \n",
    "            CLIENT_SECRET, \n",
    "            VERSION, \n",
    "            lat, \n",
    "            lng, \n",
    "            radius,\n",
    "            limit,\n",
    "            categoryId)\n",
    "            \n",
    "        results = requests.get(url).json()['response']['venues']\n",
    "        \n",
    "        # Filtering relevant information.\n",
    "        venues_list.append([(\n",
    "            name, \n",
    "            lat, \n",
    "            lng, \n",
    "            v['name']) for v in results])\n",
    "\n",
    "    nearby_venues = pd.DataFrame([item for venue_list in venues_list for item in venue_list])\n",
    "    nearby_venues.columns = ['District', \n",
    "                  'Dist_Latitude', \n",
    "                  'Dist_Longitude', \n",
    "                  'Venue']\n",
    "    \n",
    "    return(nearby_venues)"
   ]
  },
  {
   "cell_type": "code",
   "execution_count": 37,
   "metadata": {},
   "outputs": [
    {
     "name": "stdout",
     "output_type": "stream",
     "text": [
      "Nagatacho\n",
      "Nihonbashi\n",
      "Odaiba\n",
      "Shinjuku\n",
      "Hongo\n",
      "Ueno\n",
      "Kinshicho\n",
      "Kiba\n",
      "Shinagawa\n",
      "Meguro\n",
      "Omori\n",
      "Shimokitazawa\n",
      "Shibuya\n",
      "Nakano\n",
      "Koenji\n",
      "Ikebukuro\n",
      "Akabane\n",
      "Arakawa\n",
      "Itabashi\n",
      "Nerima\n",
      "Ayase\n",
      "Tateishi\n",
      "Kasai\n"
     ]
    }
   ],
   "source": [
    "Indian_restaurants = getNearbyVenues(names=df['District'],\n",
    "                                   latitudes=df['Dist_Latitude'],\n",
    "                                   longitudes=df['Dist_Longitude']\n",
    "                                  )"
   ]
  },
  {
   "cell_type": "code",
   "execution_count": 40,
   "metadata": {},
   "outputs": [
    {
     "data": {
      "text/plain": [
       "(561, 4)"
      ]
     },
     "execution_count": 40,
     "metadata": {},
     "output_type": "execute_result"
    }
   ],
   "source": [
    "Indian_restaurants.shape"
   ]
  },
  {
   "cell_type": "code",
   "execution_count": 41,
   "metadata": {},
   "outputs": [],
   "source": [
    "a=Indian_restaurants['District'].value_counts()"
   ]
  },
  {
   "cell_type": "code",
   "execution_count": 47,
   "metadata": {},
   "outputs": [
    {
     "data": {
      "text/plain": [
       "38"
      ]
     },
     "execution_count": 47,
     "metadata": {},
     "output_type": "execute_result"
    }
   ],
   "source": [
    "a['Nagatacho']"
   ]
  },
  {
   "cell_type": "code",
   "execution_count": 45,
   "metadata": {},
   "outputs": [
    {
     "data": {
      "text/plain": [
       "1         Nagatacho\n",
       "2        Nihonbashi\n",
       "3            Odaiba\n",
       "4          Shinjuku\n",
       "5             Hongo\n",
       "6              Ueno\n",
       "7         Kinshicho\n",
       "8              Kiba\n",
       "9         Shinagawa\n",
       "10           Meguro\n",
       "11            Omori\n",
       "12    Shimokitazawa\n",
       "13          Shibuya\n",
       "14           Nakano\n",
       "15           Koenji\n",
       "16        Ikebukuro\n",
       "17          Akabane\n",
       "18          Arakawa\n",
       "19         Itabashi\n",
       "20           Nerima\n",
       "21            Ayase\n",
       "22         Tateishi\n",
       "23            Kasai\n",
       "Name: District, dtype: object"
      ]
     },
     "execution_count": 45,
     "metadata": {},
     "output_type": "execute_result"
    }
   ],
   "source": [
    "Tokyo['District']"
   ]
  },
  {
   "cell_type": "code",
   "execution_count": 48,
   "metadata": {},
   "outputs": [],
   "source": [
    "freq=[]\n",
    "for i in Tokyo['District']:\n",
    "    count=a[i]\n",
    "    freq.append(count)"
   ]
  },
  {
   "cell_type": "code",
   "execution_count": 48,
   "metadata": {},
   "outputs": [],
   "source": [
    "Tokyo['Frequency']=freq"
   ]
  },
  {
   "cell_type": "code",
   "execution_count": 49,
   "metadata": {},
   "outputs": [
    {
     "data": {
      "text/html": [
       "<div>\n",
       "<style scoped>\n",
       "    .dataframe tbody tr th:only-of-type {\n",
       "        vertical-align: middle;\n",
       "    }\n",
       "\n",
       "    .dataframe tbody tr th {\n",
       "        vertical-align: top;\n",
       "    }\n",
       "\n",
       "    .dataframe thead th {\n",
       "        text-align: right;\n",
       "    }\n",
       "</style>\n",
       "<table border=\"1\" class=\"dataframe\">\n",
       "  <thead>\n",
       "    <tr style=\"text-align: right;\">\n",
       "      <th></th>\n",
       "      <th>Ward</th>\n",
       "      <th>Area_SqKm</th>\n",
       "      <th>Population</th>\n",
       "      <th>Major_District</th>\n",
       "      <th>Dist_Latitude</th>\n",
       "      <th>Dist_Longitude</th>\n",
       "      <th>Frequency</th>\n",
       "    </tr>\n",
       "  </thead>\n",
       "  <tbody>\n",
       "    <tr>\n",
       "      <th>1</th>\n",
       "      <td>Chiyoda</td>\n",
       "      <td>5100</td>\n",
       "      <td>59441</td>\n",
       "      <td>Nagatacho</td>\n",
       "      <td>35.675618</td>\n",
       "      <td>139.743469</td>\n",
       "      <td>38</td>\n",
       "    </tr>\n",
       "    <tr>\n",
       "      <th>2</th>\n",
       "      <td>Chuo</td>\n",
       "      <td>14460</td>\n",
       "      <td>147620</td>\n",
       "      <td>Nihonbashi</td>\n",
       "      <td>35.684058</td>\n",
       "      <td>139.774501</td>\n",
       "      <td>50</td>\n",
       "    </tr>\n",
       "    <tr>\n",
       "      <th>3</th>\n",
       "      <td>Minato</td>\n",
       "      <td>12180</td>\n",
       "      <td>248071</td>\n",
       "      <td>Odaiba</td>\n",
       "      <td>35.619128</td>\n",
       "      <td>139.779403</td>\n",
       "      <td>2</td>\n",
       "    </tr>\n",
       "    <tr>\n",
       "      <th>4</th>\n",
       "      <td>Shinjuku</td>\n",
       "      <td>18620</td>\n",
       "      <td>339211</td>\n",
       "      <td>Shinjuku</td>\n",
       "      <td>35.693763</td>\n",
       "      <td>139.703632</td>\n",
       "      <td>49</td>\n",
       "    </tr>\n",
       "    <tr>\n",
       "      <th>5</th>\n",
       "      <td>Bunkyō</td>\n",
       "      <td>19790</td>\n",
       "      <td>223389</td>\n",
       "      <td>Hongo</td>\n",
       "      <td>35.708800</td>\n",
       "      <td>139.760100</td>\n",
       "      <td>49</td>\n",
       "    </tr>\n",
       "  </tbody>\n",
       "</table>\n",
       "</div>"
      ],
      "text/plain": [
       "       Ward  Area_SqKm  Population Major_District  Dist_Latitude  \\\n",
       "1   Chiyoda       5100       59441      Nagatacho      35.675618   \n",
       "2      Chuo      14460      147620     Nihonbashi      35.684058   \n",
       "3    Minato      12180      248071         Odaiba      35.619128   \n",
       "4  Shinjuku      18620      339211       Shinjuku      35.693763   \n",
       "5    Bunkyō      19790      223389          Hongo      35.708800   \n",
       "\n",
       "   Dist_Longitude  Frequency  \n",
       "1      139.743469         38  \n",
       "2      139.774501         50  \n",
       "3      139.779403          2  \n",
       "4      139.703632         49  \n",
       "5      139.760100         49  "
      ]
     },
     "execution_count": 49,
     "metadata": {},
     "output_type": "execute_result"
    }
   ],
   "source": [
    "Tokyo.head()"
   ]
  },
  {
   "cell_type": "code",
   "execution_count": 51,
   "metadata": {},
   "outputs": [],
   "source": [
    "group=[]\n",
    "for freq in Tokyo[\"Frequency\"]:\n",
    "    if freq>33:\n",
    "        a=0\n",
    "    elif freq>17:\n",
    "        a=1\n",
    "    else:\n",
    "        a=2\n",
    "    group.append(a)"
   ]
  },
  {
   "cell_type": "code",
   "execution_count": 52,
   "metadata": {},
   "outputs": [
    {
     "data": {
      "text/html": [
       "<div>\n",
       "<style scoped>\n",
       "    .dataframe tbody tr th:only-of-type {\n",
       "        vertical-align: middle;\n",
       "    }\n",
       "\n",
       "    .dataframe tbody tr th {\n",
       "        vertical-align: top;\n",
       "    }\n",
       "\n",
       "    .dataframe thead th {\n",
       "        text-align: right;\n",
       "    }\n",
       "</style>\n",
       "<table border=\"1\" class=\"dataframe\">\n",
       "  <thead>\n",
       "    <tr style=\"text-align: right;\">\n",
       "      <th></th>\n",
       "      <th>Ward</th>\n",
       "      <th>Area_SqKm</th>\n",
       "      <th>Population</th>\n",
       "      <th>Major_District</th>\n",
       "      <th>Dist_Latitude</th>\n",
       "      <th>Dist_Longitude</th>\n",
       "      <th>Frequency</th>\n",
       "      <th>Group</th>\n",
       "    </tr>\n",
       "  </thead>\n",
       "  <tbody>\n",
       "    <tr>\n",
       "      <th>1</th>\n",
       "      <td>Chiyoda</td>\n",
       "      <td>5100</td>\n",
       "      <td>59441</td>\n",
       "      <td>Nagatacho</td>\n",
       "      <td>35.675618</td>\n",
       "      <td>139.743469</td>\n",
       "      <td>38</td>\n",
       "      <td>0</td>\n",
       "    </tr>\n",
       "    <tr>\n",
       "      <th>2</th>\n",
       "      <td>Chuo</td>\n",
       "      <td>14460</td>\n",
       "      <td>147620</td>\n",
       "      <td>Nihonbashi</td>\n",
       "      <td>35.684058</td>\n",
       "      <td>139.774501</td>\n",
       "      <td>50</td>\n",
       "      <td>0</td>\n",
       "    </tr>\n",
       "    <tr>\n",
       "      <th>3</th>\n",
       "      <td>Minato</td>\n",
       "      <td>12180</td>\n",
       "      <td>248071</td>\n",
       "      <td>Odaiba</td>\n",
       "      <td>35.619128</td>\n",
       "      <td>139.779403</td>\n",
       "      <td>2</td>\n",
       "      <td>2</td>\n",
       "    </tr>\n",
       "  </tbody>\n",
       "</table>\n",
       "</div>"
      ],
      "text/plain": [
       "      Ward  Area_SqKm  Population Major_District  Dist_Latitude  \\\n",
       "1  Chiyoda       5100       59441      Nagatacho      35.675618   \n",
       "2     Chuo      14460      147620     Nihonbashi      35.684058   \n",
       "3   Minato      12180      248071         Odaiba      35.619128   \n",
       "\n",
       "   Dist_Longitude  Frequency  Group  \n",
       "1      139.743469         38      0  \n",
       "2      139.774501         50      0  \n",
       "3      139.779403          2      2  "
      ]
     },
     "execution_count": 52,
     "metadata": {},
     "output_type": "execute_result"
    }
   ],
   "source": [
    "Tokyo['Group']=group\n",
    "Tokyo.head(3)"
   ]
  },
  {
   "cell_type": "code",
   "execution_count": 55,
   "metadata": {},
   "outputs": [
    {
     "data": {
      "text/html": [
       "<div style=\"width:100%;\"><div style=\"position:relative;width:100%;height:0;padding-bottom:60%;\"><span style=\"color:#565656\">Make this Notebook Trusted to load map: File -> Trust Notebook</span><iframe src=\"about:blank\" style=\"position:absolute;width:100%;height:100%;left:0;top:0;border:none !important;\" data-html=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 onload=\"this.contentDocument.open();this.contentDocument.write(atob(this.getAttribute('data-html')));this.contentDocument.close();\" allowfullscreen webkitallowfullscreen mozallowfullscreen></iframe></div></div>"
      ],
      "text/plain": [
       "<folium.folium.Map at 0x29b65d0c970>"
      ]
     },
     "execution_count": 55,
     "metadata": {},
     "output_type": "execute_result"
    }
   ],
   "source": [
    "# Creating map.\n",
    "map_clusters = folium.Map(location=[35.6828387, 139.7594549], zoom_start=11)\n",
    "\n",
    "# Setting color scheme for the clusters.\n",
    "x = np.arange(3)\n",
    "ys = [i + x + (i*x)**2 for i in range(3)]\n",
    "colors_array = cm.rainbow(np.linspace(0, 1, len(ys)))\n",
    "rainbow = [colors.rgb2hex(i) for i in colors_array]\n",
    "\n",
    "# Adding markers to the map.\n",
    "markers_colors = []\n",
    "for lat, lon, poi, cluster in zip(Tokyo['Dist_Latitude'],Tokyo['Dist_Longitude'],Tokyo['Ward'],Tokyo['Group']):\n",
    "    label = folium.Popup(str(poi) + ' Cluster ' + str(cluster), parse_html=True)\n",
    "    folium.CircleMarker(\n",
    "        [lat, lon],\n",
    "        radius=5,\n",
    "        popup=label,\n",
    "        color=rainbow[cluster-1],\n",
    "        fill=True,\n",
    "        fill_color=rainbow[cluster-1],\n",
    "        fill_opacity=0.7).add_to(map_clusters)\n",
    "       \n",
    "map_clusters"
   ]
  },
  {
   "cell_type": "markdown",
   "metadata": {},
   "source": [
    "#### Note: Observations are made in the final report."
   ]
  },
  {
   "cell_type": "markdown",
   "metadata": {},
   "source": [
    "# Notebook's end."
   ]
  }
 ],
 "metadata": {
  "kernelspec": {
   "display_name": "Python 3",
   "language": "python",
   "name": "python3"
  },
  "language_info": {
   "codemirror_mode": {
    "name": "ipython",
    "version": 3
   },
   "file_extension": ".py",
   "mimetype": "text/x-python",
   "name": "python",
   "nbconvert_exporter": "python",
   "pygments_lexer": "ipython3",
   "version": "3.8.3"
  }
 },
 "nbformat": 4,
 "nbformat_minor": 4
}
